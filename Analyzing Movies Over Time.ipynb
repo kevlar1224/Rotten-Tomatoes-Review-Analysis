{
  "nbformat": 4,
  "nbformat_minor": 0,
  "metadata": {
    "colab": {
      "name": "Movies Over Time.ipynb",
      "provenance": [],
      "collapsed_sections": []
    },
    "kernelspec": {
      "name": "python3",
      "display_name": "Python 3"
    },
    "language_info": {
      "name": "python"
    }
  },
  "cells": [
    {
      "cell_type": "code",
      "metadata": {
        "id": "c1AQKjOaLJrl",
        "colab": {
          "base_uri": "https://localhost:8080/",
          "height": 54
        },
        "outputId": "b7a6319e-25f1-4114-cbcf-4dcbb42bd277"
      },
      "source": [
        "# Enter this in console:\n",
        "\n",
        "''' \n",
        "\n",
        "function ConnectButton(){\n",
        "    console.log(\"Connect pushed\"); \n",
        "    document.querySelector(\"#top-toolbar > colab-connect-button\").shadowRoot.querySelector(\"#connect\").click() \n",
        "}\n",
        "setInterval(ConnectButton,60000);\n",
        "\n",
        "'''"
      ],
      "execution_count": null,
      "outputs": [
        {
          "output_type": "execute_result",
          "data": {
            "application/vnd.google.colaboratory.intrinsic+json": {
              "type": "string"
            },
            "text/plain": [
              "' \\n\\nfunction ConnectButton(){\\n    console.log(\"Connect pushed\"); \\n    document.querySelector(\"#top-toolbar > colab-connect-button\").shadowRoot.querySelector(\"#connect\").click() \\n}\\nsetInterval(ConnectButton,60000);\\n\\n'"
            ]
          },
          "metadata": {
            "tags": []
          },
          "execution_count": 1
        }
      ]
    },
    {
      "cell_type": "code",
      "metadata": {
        "id": "Y9uVV6yGzykc"
      },
      "source": [
        "!apt-get update -qq\n",
        "!apt-get install -y openjdk-8-jdk-headless -qq > /dev/null\n",
        "!wget -q http://apache.osuosl.org/spark/spark-3.1.1/spark-3.1.1-bin-hadoop3.2.tgz\n",
        "!tar xf spark-3.1.1-bin-hadoop3.2.tgz\n",
        "!pip install -q findspark"
      ],
      "execution_count": null,
      "outputs": []
    },
    {
      "cell_type": "code",
      "metadata": {
        "id": "ybOaEF2Y0Dbp"
      },
      "source": [
        "import os\n",
        "os.environ[\"JAVA_HOME\"] = \"/usr/lib/jvm/java-8-openjdk-amd64\"\n",
        "os.environ[\"PATH\"] = os.environ[\"JAVA_HOME\"] + \"/bin:\" + os.environ[\"PATH\"]\n",
        "os.environ[\"SPARK_HOME\"] = \"/content/spark-3.1.1-bin-hadoop3.2\"\n",
        "import findspark\n",
        "findspark.init()\n",
        "import pandas as pd\n",
        "import datetime as dt\n",
        "import math\n",
        "\n",
        "from pyspark.sql import functions as F\n",
        "import pyspark.sql.types as T\n",
        "from pyspark.sql import Window\n",
        "import matplotlib.pyplot as plt\n",
        "\n",
        "from pyspark.ml.regression import LinearRegression\n",
        "from pyspark.ml.classification import LogisticRegression\n",
        "from pyspark.ml.linalg import Vectors\n",
        "from pyspark.ml.feature import VectorAssembler\n",
        "\n",
        "from pyspark.ml.regression import RandomForestRegressor\n",
        "from pyspark.ml.classification import RandomForestClassifier\n",
        "from pyspark.ml.evaluation import RegressionEvaluator\n",
        "from pyspark.ml.evaluation import MulticlassClassificationEvaluator\n",
        "\n",
        "import nltk\n",
        "from nltk.corpus import stopwords\n",
        "from collections import Counter\n",
        "from wordcloud import WordCloud\n",
        "from textblob import TextBlob"
      ],
      "execution_count": null,
      "outputs": []
    },
    {
      "cell_type": "code",
      "metadata": {
        "id": "X0J8i2M60NXM"
      },
      "source": [
        "from pyspark.sql import SparkSession\n",
        "\n",
        "spark = SparkSession\\\n",
        "  .builder\\\n",
        "  .config(\"spark.executor.memory\", \"8g\")\\\n",
        "  .config(\"spark.driver.memory\",'8g')\\\n",
        "  .getOrCreate()"
      ],
      "execution_count": null,
      "outputs": []
    },
    {
      "cell_type": "code",
      "metadata": {
        "id": "dfO3yrzM0vmo"
      },
      "source": [
        "reviews = spark.read\\\n",
        "  .parquet(\"reviews.snappy.parquet\")\n",
        "\n",
        "movies = spark.read\\\n",
        "  .parquet(\"movies.snappy.parquet\")"
      ],
      "execution_count": null,
      "outputs": []
    },
    {
      "cell_type": "markdown",
      "metadata": {
        "id": "hm6FJVX85vOu"
      },
      "source": [
        "First we examine the different genres. We don't end up using any of this information for our predictive analytics, but it still enables us to look into how different genres perform."
      ]
    },
    {
      "cell_type": "code",
      "metadata": {
        "id": "ecmO6ZQ16TRt",
        "colab": {
          "base_uri": "https://localhost:8080/"
        },
        "outputId": "bef235b6-ae3b-4188-d86a-4748c8087168"
      },
      "source": [
        "movies = movies.fillna(\"None\", subset=[\"genres\", 'audience_count', 'audience_rating'])\n",
        "movies = movies.withColumn(\"genres_list\", F.split(F.col(\"genres\"), ', '))\n",
        "\n",
        "movies_by_genre = movies.select(\n",
        "    F.explode(F.col(\"genres_list\")).alias('genre'),\n",
        "    'audience_rating',\n",
        "    'audience_count'\n",
        ").groupby('genre').mean()\n",
        "\n",
        "top_genres = [row['genre'] for row in \n",
        "              movies_by_genre.sort(\"avg(audience_count)\", ascending=False).collect()[:10]]\n",
        "print(top_genres)"
      ],
      "execution_count": null,
      "outputs": [
        {
          "output_type": "stream",
          "text": [
            "['Science Fiction & Fantasy', 'Kids & Family', 'Animation', 'Romance', 'Action & Adventure', 'Comedy', 'Sports & Fitness', 'Mystery & Suspense', 'Drama', 'Horror']\n"
          ],
          "name": "stdout"
        }
      ]
    },
    {
      "cell_type": "code",
      "metadata": {
        "id": "xoSUJ59ElLVk"
      },
      "source": [
        "# Setting individual columns denoting whether the movie is of a certain genre\n",
        "# Individual movies can be multiple genres\n",
        "is_genre_udf = F.udf(lambda genre, genres_list: 1 if genre in genres_list else 0)\n",
        "\n",
        "for genre in top_genres:\n",
        "  movies = movies.withColumn(f\"is_{genre}\", is_genre_udf(F.lit(genre), F.col(\"genres_list\")).cast(\"int\"))"
      ],
      "execution_count": null,
      "outputs": []
    },
    {
      "cell_type": "code",
      "metadata": {
        "id": "xAqUpJmCoNHb"
      },
      "source": [
        "# Combining the movie information with the review information\n",
        "\n",
        "to_select_from_movies = ['rotten_tomatoes_link', 'original_release_date', \n",
        "                      'streaming_release_date', 'audience_count', 'audience_rating']\n",
        "\n",
        "movie_reviews = reviews.select(\"rotten_tomatoes_link\", 'review_type', 'review_date', 'top_critic', 'review_content')\\\n",
        "  .join(movies.select(*to_select_from_movies), on=\"rotten_tomatoes_link\")"
      ],
      "execution_count": null,
      "outputs": []
    },
    {
      "cell_type": "markdown",
      "metadata": {
        "id": "exGIIBsZ6JUr"
      },
      "source": [
        "For each review, we identify the time period it was posted relative to the movie's theatrical run. Any reviews posted between 0 and 30 days after the movie's release is considered to have been posted in month 0."
      ]
    },
    {
      "cell_type": "code",
      "metadata": {
        "id": "Qw8qm93woLoZ"
      },
      "source": [
        "# Identifying the age of the movie in months at the time of each review\n",
        "\n",
        "def set_month(date, release_date):\n",
        "  month = math.floor((dt.datetime.strptime(date, '%Y-%m-%d')\\\n",
        "                      - dt.datetime.strptime(release_date, '%Y-%m-%d')).days/30)\n",
        "\n",
        "  return month\n",
        "\n",
        "set_months_udf = F.udf(lambda datetime, release_date: set_month(datetime, release_date))\n",
        "\n",
        "movie_reviews = movie_reviews.where(F.col('review_date').isNotNull())\n",
        "movie_reviews = movie_reviews.where(F.col('original_release_date').isNotNull())\n",
        "movie_reviews = movie_reviews.where(F.col('streaming_release_date').isNotNull())\n",
        "\n",
        "movie_reviews = movie_reviews\\\n",
        "  .withColumn(\"months_since_release\", \n",
        "              set_months_udf(F.col('review_date'), F.col('original_release_date')).cast(\"int\"))\\\n",
        "  .withColumn(\"months_since_streaming\", \n",
        "              set_months_udf(F.col('review_date'), F.col('streaming_release_date')).cast(\"int\"))"
      ],
      "execution_count": null,
      "outputs": []
    },
    {
      "cell_type": "markdown",
      "metadata": {
        "id": "3U4kAtPx63OJ"
      },
      "source": [
        "Next we set some numeric variables based on the binary classifications of whether the review was positive and whether the reviewer was a top critic. We then break down the classifications further to get more information about how the different groups of reviewers received the movie."
      ]
    },
    {
      "cell_type": "code",
      "metadata": {
        "id": "ep4Usdqp15j9"
      },
      "source": [
        "# Setting numeric variables denoting whether the review was positive and whether the critic was a top critic\n",
        "\n",
        "is_fresh_udf = F.udf(lambda x: 1 if x == 'Fresh' else 0)\n",
        "top_critic_udf = F.udf(lambda x: 1 if x == True else 0)\n",
        "\n",
        "movie_reviews = movie_reviews.withColumn(\"is_fresh\", is_fresh_udf(F.col(\"review_type\")))\\\n",
        "  .withColumn(\"is_top_critic\", top_critic_udf(F.col(\"top_critic\")))"
      ],
      "execution_count": null,
      "outputs": []
    },
    {
      "cell_type": "code",
      "metadata": {
        "id": "yCNkO6YyjTqb"
      },
      "source": [
        "# Combining the two variables above into four separate categories\n",
        "# This will be useful for aggregation later\n",
        "\n",
        "movie_reviews = movie_reviews.withColumn(\"top_critic_fresh\", F.col(\"is_fresh\")*F.col(\"is_top_critic\"))\\\n",
        "  .withColumn(\"top_critic_rotten\", (1 - F.col(\"is_fresh\"))*F.col(\"is_top_critic\"))\\\n",
        "  .withColumn(\"non_top_critic_fresh\", F.col(\"is_fresh\")*(1 - F.col(\"is_top_critic\")))\\\n",
        "  .withColumn(\"non_top_critic_rotten\", (1 - F.col(\"is_fresh\"))*(1 - F.col(\"is_top_critic\")))"
      ],
      "execution_count": null,
      "outputs": []
    },
    {
      "cell_type": "markdown",
      "metadata": {
        "id": "hzF701jV7Jyv"
      },
      "source": [
        "We identify each movie's age at the time the data was collected, based on the most recent review in the dataset. We don't use this later in our analysis, but it let's us filter out newer movies if we want aggregate movie performance over a long period of time (for example, if we wanted to look at the first two years of every movie's performance, we'd have to filter out movies that were released less than two years before the data was collected)."
      ]
    },
    {
      "cell_type": "code",
      "metadata": {
        "id": "Blq1I49IKJPD"
      },
      "source": [
        "# Identifying the age of the movie in months at time of data collection\n",
        "\n",
        "max_date = reviews.agg(F.max(F.col('review_date'))).collect()[0]['max(review_date)']\n",
        "movie_reviews = movie_reviews.withColumn(\"age_in_months\", \n",
        "                                          set_months_udf(F.lit(max_date), F.col('original_release_date')).cast(\"int\"))"
      ],
      "execution_count": null,
      "outputs": []
    },
    {
      "cell_type": "markdown",
      "metadata": {
        "id": "emDP2VzE8MQL"
      },
      "source": [
        "We collect the reviews so we don't have to run the previous calculations every time we use the data."
      ]
    },
    {
      "cell_type": "code",
      "metadata": {
        "id": "o7t8UGjRlQuY"
      },
      "source": [
        "collected_reviews = spark.sparkContext.parallelize(movie_reviews.collect()).toDF()"
      ],
      "execution_count": null,
      "outputs": []
    },
    {
      "cell_type": "markdown",
      "metadata": {
        "id": "eChITGw97znQ"
      },
      "source": [
        "Now we want to group the movies by movie and month. For each metric we want to observe, we look at the monthly data as well as the running total over the movie's run."
      ]
    },
    {
      "cell_type": "code",
      "metadata": {
        "id": "xihZcRP6HG3s"
      },
      "source": [
        "cumulative_window = (Window.partitionBy(\"rotten_tomatoes_link\")\\\n",
        "  .orderBy(\"months_since_release\")\\\n",
        "  .rangeBetween(Window.unboundedPreceding, 0))\n",
        "\n",
        "streaming_reviews = collected_reviews.where(F.col(\"streaming_release_date\").isNotNull())\n",
        "\n",
        "grouped_reviews = streaming_reviews.groupby(\"rotten_tomatoes_link\", \"months_since_release\", 'audience_count', 'audience_rating', 'age_in_months')\\\n",
        "  .agg(F.min(F.col(\"months_since_streaming\")).alias(\"months_since_streaming\"),\n",
        "       F.count(F.col(\"is_fresh\")).alias(\"monthly_reviews\"),\n",
        "       F.sum(F.col(\"is_fresh\")).alias(\"monthly_fresh_reviews\"), \n",
        "       F.sum(1 - F.col(\"is_fresh\")).alias(\"monthly_rotten_reviews\"),\n",
        "       F.sum(F.col(\"is_top_critic\")).alias(\"monthly_top_critic_reviews\"), \n",
        "       F.sum(1 - F.col(\"is_top_critic\")).alias(\"monthly_non_top_critic_reviews\"),\n",
        "       F.sum(F.col(\"top_critic_fresh\")).alias(\"monthly_top_fresh_reviews\"), \n",
        "       F.sum(F.col(\"top_critic_rotten\")).alias(\"monthly_top_rotten_reviews\"),\n",
        "       F.sum(F.col(\"non_top_critic_fresh\")).alias(\"monthly_non_top_fresh_reviews\"), \n",
        "       F.sum(F.col(\"non_top_critic_rotten\")).alias(\"monthly_non_top_rotten_reviews\"))"
      ],
      "execution_count": null,
      "outputs": []
    },
    {
      "cell_type": "code",
      "metadata": {
        "id": "zZzQv4vIMgn5"
      },
      "source": [
        "grouped_reviews = grouped_reviews.withColumn(\"total_reviews\", F.sum(F.col(\"monthly_reviews\")).over(cumulative_window))\\\n",
        "  .withColumn(\"total_fresh_reviews\", F.sum(F.col(\"monthly_fresh_reviews\")).over(cumulative_window))\\\n",
        "  .withColumn(\"total_rotten_reviews\", F.sum(F.col(\"monthly_rotten_reviews\")).over(cumulative_window))\\\n",
        "  .withColumn(\"total_top_critic_reviews\", F.sum(F.col(\"monthly_top_critic_reviews\")).over(cumulative_window))\\\n",
        "  .withColumn(\"total_non_top_critic_reviews\", F.sum(F.col(\"monthly_non_top_critic_reviews\")).over(cumulative_window))\\\n",
        "  .withColumn(\"total_top_fresh_reviews\", F.sum(F.col(\"monthly_top_fresh_reviews\")).over(cumulative_window))\\\n",
        "  .withColumn(\"total_top_rotten_reviews\", F.sum(F.col(\"monthly_top_rotten_reviews\")).over(cumulative_window))\\\n",
        "  .withColumn(\"total_non_top_fresh_reviews\", F.sum(F.col(\"monthly_non_top_fresh_reviews\")).over(cumulative_window))\\\n",
        "  .withColumn(\"total_non_top_rotten_reviews\", F.sum(F.col(\"monthly_non_top_rotten_reviews\")).over(cumulative_window))"
      ],
      "execution_count": null,
      "outputs": []
    },
    {
      "cell_type": "markdown",
      "metadata": {
        "id": "SjBuOZji8GMk"
      },
      "source": [
        "We collect the data again so we don't have to run these calculations each time."
      ]
    },
    {
      "cell_type": "code",
      "metadata": {
        "id": "x-UCDeL-N1Zv"
      },
      "source": [
        "grouped_reviews = spark.sparkContext.parallelize(grouped_reviews.collect()).toDF()"
      ],
      "execution_count": null,
      "outputs": []
    },
    {
      "cell_type": "markdown",
      "metadata": {
        "id": "9e6RMOMK8RRA"
      },
      "source": [
        "Next, we group all the movies by month, so we can see how average performance changes over time. We want to look at the period after the movie is released and after it starts streaming."
      ]
    },
    {
      "cell_type": "code",
      "metadata": {
        "id": "jReoRN2X1Via"
      },
      "source": [
        "filtered_reviews = grouped_reviews.where(F.col(\"months_since_release\") >= -1)\\\n",
        "  .where(F.col(\"months_since_release\") <= 120)\\\n",
        "  .where(F.col(\"age_in_months\") >= 12)"
      ],
      "execution_count": null,
      "outputs": []
    },
    {
      "cell_type": "code",
      "metadata": {
        "id": "_QhXoZW-Ozsm"
      },
      "source": [
        "col = \"monthly_reviews\"\n",
        "\n",
        "avg_by_month_age = filtered_reviews.groupby('months_since_release')\\\n",
        "  .agg(F.mean(F.col(col)).alias(\"mean\"), F.stddev(F.col(col)).alias(\"stddev\")).sort(\"months_since_release\")\n",
        "\n",
        "month_data = avg_by_month_age.collect()"
      ],
      "execution_count": null,
      "outputs": []
    },
    {
      "cell_type": "code",
      "metadata": {
        "id": "w8vVaUEny6Tt"
      },
      "source": [
        "months = [row['months_since_release'] for row in month_data]\n",
        "avg_count = [row['mean'] for row in month_data]\n",
        "upper = [row['mean'] + row['stddev'] for row in month_data]"
      ],
      "execution_count": null,
      "outputs": []
    },
    {
      "cell_type": "code",
      "metadata": {
        "colab": {
          "base_uri": "https://localhost:8080/",
          "height": 282
        },
        "id": "Fo9CPHuXzAOL",
        "outputId": "c3d0db87-bd22-4f4a-bc65-c03eb7635b09"
      },
      "source": [
        "i = 0\n",
        "j = 15\n",
        "\n",
        "plt.plot(months[i:j], avg_count[i:j])\n",
        "plt.plot(months[i:j], upper[i:j], linestyle='dashed')\n",
        "plt.xlabel('Months since original release')\n",
        "plt.ylabel('Number of reviews')\n",
        "plt.legend(['Average', 'One standard deviation above average'])\n",
        "plt.show()"
      ],
      "execution_count": null,
      "outputs": [
        {
          "output_type": "display_data",
          "data": {
            "image/png": "[encoded data removed]",
            "text/plain": [
              "<Figure size 432x288 with 1 Axes>"
            ]
          },
          "metadata": {
            "tags": [],
            "needs_background": "light"
          }
        }
      ]
    },
    {
      "cell_type": "code",
      "metadata": {
        "id": "_ZwjGpZyymIS"
      },
      "source": [
        "stream_by_month = grouped_reviews.where(F.col(\"months_since_streaming\") >= -10)\\\n",
        "  .where(F.col(\"months_since_streaming\") <= 10).where(F.col('months_since_release') >= 3)"
      ],
      "execution_count": null,
      "outputs": []
    },
    {
      "cell_type": "code",
      "metadata": {
        "id": "lf8py8rjTSnV"
      },
      "source": [
        "col = \"monthly_reviews\"\n",
        "\n",
        "stream_avg_by_month_age = stream_by_month\\\n",
        "  .groupby('months_since_streaming')\\\n",
        "  .agg(F.avg(F.col(col)).alias(\"mean\"), F.stddev(F.col(col)).alias(\"stddev\"))\\\n",
        "  .sort('months_since_streaming')"
      ],
      "execution_count": null,
      "outputs": []
    },
    {
      "cell_type": "code",
      "metadata": {
        "id": "OpZjfYeqR418"
      },
      "source": [
        "month_data = stream_avg_by_month_age.where(F.col('stddev').isNotNull()).collect()"
      ],
      "execution_count": null,
      "outputs": []
    },
    {
      "cell_type": "code",
      "metadata": {
        "id": "vUIlxWlFOG6A"
      },
      "source": [
        "months = [row['months_since_streaming'] for row in month_data]\n",
        "avg_count = [row['mean'] for row in month_data]\n",
        "upper = [row['mean'] + row['stddev'] for row in month_data]"
      ],
      "execution_count": null,
      "outputs": []
    },
    {
      "cell_type": "code",
      "metadata": {
        "colab": {
          "base_uri": "https://localhost:8080/",
          "height": 281
        },
        "id": "2U8dIlScQ4en",
        "outputId": "09717dff-e5ff-439f-ed73-542de32cde7b"
      },
      "source": [
        "i = 0\n",
        "j = len(months)\n",
        "\n",
        "plt.plot(months[i:j], avg_count[i:j])\n",
        "plt.plot(months[i:j], upper[i:j], linestyle='dashed')\n",
        "plt.xlabel('Months since streaming release')\n",
        "plt.ylabel('Number of reviews')\n",
        "plt.legend(['Average', 'One standard deviation above average'])\n",
        "plt.show()"
      ],
      "execution_count": null,
      "outputs": [
        {
          "output_type": "display_data",
          "data": {
            "image/png": "[encoded data removed]",
            "text/plain": [
              "<Figure size 432x288 with 1 Axes>"
            ]
          },
          "metadata": {
            "tags": [],
            "needs_background": "light"
          }
        }
      ]
    },
    {
      "cell_type": "markdown",
      "metadata": {
        "id": "ZWoH0eR2UGHU"
      },
      "source": [
        "# Calculating drop-off rates and organizing all the data by film\n",
        "\n",
        "We saw before that the monthly number of reviews drops drastically after the first month or so. What we call the \"drop-off rate\" is the rate of change between the monthly number of reviews from one month to the next. This data didn't have very much predictive power, and it requires us to wait two months to get information, but it does allow us to compare average movie performance just after release and just after streaming release."
      ]
    },
    {
      "cell_type": "code",
      "metadata": {
        "id": "vbXIPxi-pwkM"
      },
      "source": [
        "movie_window = (Window.partitionBy('rotten_tomatoes_link'))\n",
        "\n",
        "dropoff_window = (Window.partitionBy('rotten_tomatoes_link')\\\n",
        "  .orderBy('months_since_release')\\\n",
        "  .rangeBetween(0, 1))\n",
        "\n",
        "dropoffs = grouped_reviews\\\n",
        "  .drop('audience_count')\\\n",
        "  .drop('audience_rating')\\\n",
        "  .withColumn('absolute_change', (F.last('monthly_reviews').over(dropoff_window)-F.first('monthly_reviews').over(dropoff_window)))\\\n",
        "  .withColumn('percent_change', (F.last('monthly_reviews').over(dropoff_window)/F.first('monthly_reviews').over(dropoff_window))-1)\\\n",
        "  .withColumn('overall_reviews', F.max('total_reviews').over(movie_window))\n",
        "\n",
        "pre_streaming = dropoffs.where(F.col(\"months_since_streaming\") == -1)\\\n",
        "  .select('rotten_tomatoes_link',\n",
        "          'monthly_fresh_reviews',\n",
        "          'monthly_rotten_reviews',\n",
        "          'total_fresh_reviews',\n",
        "          'total_rotten_reviews',\n",
        "          'absolute_change',\n",
        "          (F.col('overall_reviews') - F.col('total_reviews')).alias(\"reviews_after_stream_release\"))\\\n",
        "  .withColumnRenamed(\"monthly_fresh_reviews\", \"fresh_reviews_pre_stream_release\")\\\n",
        "  .withColumnRenamed(\"monthly_rotten_reviews\", \"rotten_reviews_pre_stream_release\")\\\n",
        "  .withColumnRenamed(\"total_fresh_reviews\", \"total_fresh_reviews_pre_stream_release\")\\\n",
        "  .withColumnRenamed(\"total_rotten_reviews\", \"total_rotten_reviews_pre_stream_release\")\\\n",
        "  .withColumnRenamed(\"absolute_change\", \"change_in_reviews_for_stream_release\")\n",
        "\n",
        "original_release = dropoffs.where((F.col('months_since_release') == 0))\\\n",
        "  .join(pre_streaming, on='rotten_tomatoes_link')\\\n",
        "  .sort('rotten_tomatoes_link', 'months_since_release')\n",
        "\n",
        "\n",
        "grouped_movie_data_raw = original_release.join(movies, on=\"rotten_tomatoes_link\")"
      ],
      "execution_count": null,
      "outputs": []
    },
    {
      "cell_type": "code",
      "metadata": {
        "id": "ynZGk-mlS-UQ"
      },
      "source": [
        "grouped_movie_data = spark.sparkContext.parallelize(grouped_movie_data_raw.collect()).toDF()"
      ],
      "execution_count": null,
      "outputs": []
    },
    {
      "cell_type": "code",
      "metadata": {
        "id": "QtRuFUyuxfQ7"
      },
      "source": [
        "first_year_of_release = dropoffs.where(F.col('months_since_release') >= -1)\\\n",
        "  .where(F.col('months_since_release') < 12)\\\n",
        "  .groupby('months_since_release')\\\n",
        "  .agg((F.sum(F.col('absolute_change'))/F.sum(F.col('monthly_reviews')) + 1).alias('average_rate_of_change'))\\\n",
        "  .sort('months_since_release')\\\n",
        "  .collect()\n",
        "\n",
        "first_year_of_streaming = dropoffs.where(F.col('months_since_streaming') >= -1)\\\n",
        "  .where(F.col('months_since_streaming') < 12)\\\n",
        "  .groupby('months_since_streaming')\\\n",
        "  .agg((F.sum(F.col('absolute_change'))/F.sum(F.col('monthly_reviews')) + 1).alias('average_rate_of_change'))\\\n",
        "  .sort('months_since_streaming')\\\n",
        "  .collect()"
      ],
      "execution_count": null,
      "outputs": []
    },
    {
      "cell_type": "markdown",
      "metadata": {
        "id": "ZTXQpjkZ9QG1"
      },
      "source": [
        "We saw before that there were some similarities between the first few months after original release and the first few months after streaming release. This chart of the drop-off rates highlights those similarities: there's a significant drop after the first month, then a plateau."
      ]
    },
    {
      "cell_type": "code",
      "metadata": {
        "colab": {
          "base_uri": "https://localhost:8080/",
          "height": 279
        },
        "id": "SRh9zAdcy2Ss",
        "outputId": "c1f817f3-2dee-4fd4-d13d-0651bce86e5b"
      },
      "source": [
        "release_x_values = [row['average_rate_of_change'] for row in first_year_of_release]\n",
        "streaming_x_values = [row['average_rate_of_change'] for row in first_year_of_streaming]\n",
        "months = [row['months_since_release'] + 1 for row in first_year_of_release]\n",
        "\n",
        "plt.plot(months, release_x_values, color=\"blue\")\n",
        "plt.plot(months, streaming_x_values, color=\"orange\")\n",
        "plt.legend([\"Original Release\", 'Streaming Release'])\n",
        "plt.ylabel('Rate of change between months')\n",
        "plt.xlabel('Months since original release')\n",
        "\n",
        "plt.show()"
      ],
      "execution_count": null,
      "outputs": [
        {
          "output_type": "display_data",
          "data": {
            "image/png": "[encoded data removed]",
            "text/plain": [
              "<Figure size 432x288 with 1 Axes>"
            ]
          },
          "metadata": {
            "tags": [],
            "needs_background": "light"
          }
        }
      ]
    },
    {
      "cell_type": "markdown",
      "metadata": {
        "id": "4Gp__OFpsnvM"
      },
      "source": [
        "There seems to be some conflict with this result and the previous graphs. This graph indicates that movies tend to get less reviews when they start streaming. If we see how many movies had an increase in monthly reviews when they started streaming, we see that very few of them did, and these were just pulling the average numbers up."
      ]
    },
    {
      "cell_type": "code",
      "metadata": {
        "colab": {
          "base_uri": "https://localhost:8080/"
        },
        "id": "ALixQdOIpd5e",
        "outputId": "f696a540-0621-44ea-c7e7-caa88108e449"
      },
      "source": [
        "was_success_udf = F.udf(lambda x: 1 if x > 0 else 0)\n",
        "\n",
        "dropoffs.where(F.col('months_since_streaming') == 0)\\\n",
        "  .select(was_success_udf(F.col('absolute_change')).alias('stream_success'))\\\n",
        "  .groupby('stream_success')\\\n",
        "  .count().show()"
      ],
      "execution_count": null,
      "outputs": [
        {
          "output_type": "stream",
          "text": [
            "+--------------+-----+\n",
            "|stream_success|count|\n",
            "+--------------+-----+\n",
            "|             0| 2249|\n",
            "|             1|  262|\n",
            "+--------------+-----+\n",
            "\n"
          ],
          "name": "stdout"
        }
      ]
    },
    {
      "cell_type": "markdown",
      "metadata": {
        "id": "yrTgk1hi-XZ0"
      },
      "source": [
        "We also want to know what the average percent change in reviews is over time, discounting the first month and the month just before a movie starts streaming. On average, the decay rate seems to be about 7.77% from month to month."
      ]
    },
    {
      "cell_type": "code",
      "metadata": {
        "colab": {
          "base_uri": "https://localhost:8080/"
        },
        "id": "D3oobR8kxQR4",
        "outputId": "ba0dcbe4-c4e1-4a9c-ad82-bb9146c3c3c6"
      },
      "source": [
        "dropoffs.where(F.col('months_since_release') > 0)\\\n",
        "  .where(F.col(\"months_since_streaming\") != -1)\\\n",
        "  .groupby('months_since_release')\\\n",
        "  .agg(F.sum(\"absolute_change\"), F.sum(\"monthly_reviews\"))\\\n",
        "  .select(F.sum(F.col(\"sum(absolute_change)\"))/F.sum(F.col(\"sum(monthly_reviews)\")))\\\n",
        "  .show()"
      ],
      "execution_count": null,
      "outputs": [
        {
          "output_type": "stream",
          "text": [
            "+-------------------------------------------------------+\n",
            "|(sum(sum(absolute_change)) / sum(sum(monthly_reviews)))|\n",
            "+-------------------------------------------------------+\n",
            "|                                   -0.07773661211707147|\n",
            "+-------------------------------------------------------+\n",
            "\n"
          ],
          "name": "stdout"
        }
      ]
    },
    {
      "cell_type": "markdown",
      "metadata": {
        "id": "O-Rr2NmjipLg"
      },
      "source": [
        "# Linear Regression - how to predict long-term success or streaming success"
      ]
    },
    {
      "cell_type": "code",
      "metadata": {
        "colab": {
          "base_uri": "https://localhost:8080/"
        },
        "id": "xaAKnUEYBNlU",
        "outputId": "77402cd6-1e57-45ba-dc0d-35c9a9585e80"
      },
      "source": [
        "# Proportion of all reviews that arrive in the first month \n",
        "grouped_movie_data.select(F.sum(F.col(\"monthly_reviews\"))/F.sum(F.col(\"overall_reviews\"))).show()"
      ],
      "execution_count": null,
      "outputs": [
        {
          "output_type": "stream",
          "text": [
            "+---------------------------------------------+\n",
            "|(sum(monthly_reviews) / sum(overall_reviews))|\n",
            "+---------------------------------------------+\n",
            "|                           0.3701266509021781|\n",
            "+---------------------------------------------+\n",
            "\n"
          ],
          "name": "stdout"
        }
      ]
    },
    {
      "cell_type": "code",
      "metadata": {
        "colab": {
          "base_uri": "https://localhost:8080/"
        },
        "id": "mF3_8zOUquNz",
        "outputId": "ac0ec929-319e-46bf-a8d9-6fac79ceff9d"
      },
      "source": [
        "# Proportion of all reviews that arrive by end of first month \n",
        "grouped_movie_data.select(F.sum(F.col(\"total_reviews\"))/F.sum(F.col(\"overall_reviews\"))).show()"
      ],
      "execution_count": null,
      "outputs": [
        {
          "output_type": "stream",
          "text": [
            "+-------------------------------------------+\n",
            "|(sum(total_reviews) / sum(overall_reviews))|\n",
            "+-------------------------------------------+\n",
            "|                         0.7246493114627804|\n",
            "+-------------------------------------------+\n",
            "\n"
          ],
          "name": "stdout"
        }
      ]
    },
    {
      "cell_type": "code",
      "metadata": {
        "id": "PYi_yQTosHWl"
      },
      "source": [
        "def linear_regression(input_cols, y_variable, data_frame):\n",
        "\n",
        "  assembler = VectorAssembler(inputCols=input_cols, outputCol='features')\n",
        "\n",
        "  output = assembler.transform(data_frame)\n",
        "  finalData = output.select('features', y_variable)\n",
        "  trainData, testData = finalData.randomSplit([0.7, 0.3], seed=100)\n",
        "  lrModel = LinearRegression(labelCol = y_variable, featuresCol = 'features')\n",
        "  lrEstimator = lrModel.fit(trainData)\n",
        "\n",
        "  trainResults = lrEstimator.evaluate(trainData)\n",
        "  testResults = lrEstimator.evaluate(testData)\n",
        "\n",
        "  print(f\"Train r-squared: {trainResults.r2}\")\n",
        "  print(f\"Test r-squared: {testResults.r2}\")\n",
        "  print(f\"Train MSE: {trainResults.meanSquaredError}\")\n",
        "  print(f\"Test MSE: {testResults.meanSquaredError}\")\n",
        "\n",
        "  return lrEstimator"
      ],
      "execution_count": null,
      "outputs": []
    },
    {
      "cell_type": "markdown",
      "metadata": {
        "id": "erEL29bV_Te-"
      },
      "source": [
        "We know many of the reviews come in the first month after release. We want to how much we can predict from this early information. \n",
        "\n",
        "Our first model predicts the total number of reviews from information gathered in the first month. We use the total number of reviews as a metric for a movie's popularity. We only take information from the first month, and not before, and only consider whether the review was positive or negative, as we want a model that would work for Netflix (which does not allow for text reviews nor for posting reviews before a property is released). After some experimenting, we found that the raw monthly numbers of fresh and rotten reviews for the first month had the best performance on the test dataset."
      ]
    },
    {
      "cell_type": "code",
      "metadata": {
        "colab": {
          "base_uri": "https://localhost:8080/"
        },
        "id": "GSFaeCaioZ3j",
        "outputId": "835105c5-efba-4d0d-e3d5-d3cf415fa474"
      },
      "source": [
        "# Regressing overall number of reviews on total reviews by end of first month\n",
        "\n",
        "input_cols1 = [\n",
        "              'monthly_fresh_reviews',\n",
        "              'monthly_rotten_reviews'\n",
        "              ]\n",
        "y_variable1 = 'overall_reviews'\n",
        "\n",
        "lrEstimator1 = linear_regression(input_cols1, y_variable1, grouped_movie_data)"
      ],
      "execution_count": null,
      "outputs": [
        {
          "output_type": "stream",
          "text": [
            "Train r-squared: 0.8432393300408065\n",
            "Test r-squared: 0.8542449846756699\n",
            "Train MSE: 2666.88395410728\n",
            "Test MSE: 2255.989372653295\n"
          ],
          "name": "stdout"
        }
      ]
    },
    {
      "cell_type": "code",
      "metadata": {
        "colab": {
          "base_uri": "https://localhost:8080/"
        },
        "id": "KH7tpxZvgJCb",
        "outputId": "44812364-b6d9-4abc-90bf-431b51788606"
      },
      "source": [
        "for i in range(len(input_cols1)):\n",
        "  col = input_cols1[i]\n",
        "  coeff = round(lrEstimator1.coefficients[i], 5)\n",
        "  print(f\"{col} coefficient = {coeff}\")"
      ],
      "execution_count": null,
      "outputs": [
        {
          "output_type": "stream",
          "text": [
            "monthly_fresh_reviews coefficient = 2.62298\n",
            "monthly_rotten_reviews coefficient = 1.66755\n"
          ],
          "name": "stdout"
        }
      ]
    },
    {
      "cell_type": "markdown",
      "metadata": {
        "id": "MTn7JfgcAetH"
      },
      "source": [
        "Our second model looks at the total number of reviews a movie gets after it starts streaming. For this model we considered a couple more variables, including the movie's age in months by the time it starts streaming and its performance just before the streaming release. The idea for this model was to use it to predict how well an acquired property would perform if it were to start streaming next month.\n",
        "\n",
        "While this model can provide more specific/more actionable information than the first model, it wasn't as reliable on test data."
      ]
    },
    {
      "cell_type": "code",
      "metadata": {
        "id": "2qDgpTrkDLvP",
        "colab": {
          "base_uri": "https://localhost:8080/"
        },
        "outputId": "fd84121a-528d-4e5f-fb8a-d0cc3cd35be1"
      },
      "source": [
        "# Regressing post-streaming success\n",
        "\n",
        "input_cols2 = [\n",
        "              'months_since_streaming',\n",
        "              'total_fresh_reviews',\n",
        "              'total_rotten_reviews',\n",
        "              'total_fresh_reviews_pre_stream_release',\n",
        "              'total_rotten_reviews_pre_stream_release'\n",
        "              ]\n",
        "y_variable2 = 'reviews_after_stream_release'\n",
        "\n",
        "lrEstimator2 = linear_regression(input_cols2, y_variable2, grouped_movie_data)"
      ],
      "execution_count": null,
      "outputs": [
        {
          "output_type": "stream",
          "text": [
            "Train r-squared: 0.779564476277621\n",
            "Test r-squared: 0.6481404196329615\n",
            "Train MSE: 421.387994931254\n",
            "Test MSE: 501.1881459366627\n"
          ],
          "name": "stdout"
        }
      ]
    },
    {
      "cell_type": "code",
      "metadata": {
        "colab": {
          "base_uri": "https://localhost:8080/"
        },
        "id": "6s8RXOHjgUS-",
        "outputId": "b2930804-e685-482f-bb19-d1e0ac7aa998"
      },
      "source": [
        "for i in range(len(input_cols2)):\n",
        "  col = input_cols2[i]\n",
        "  coeff = round(lrEstimator2.coefficients[i], 5)\n",
        "  print(f\"{col} coefficient = {coeff}\")"
      ],
      "execution_count": null,
      "outputs": [
        {
          "output_type": "stream",
          "text": [
            "months_since_streaming coefficient = 0.05167\n",
            "total_fresh_reviews coefficient = 0.30177\n",
            "total_rotten_reviews coefficient = 0.12186\n",
            "fresh_reviews_pre_stream_release coefficient = 0.40969\n",
            "rotten_reviews_pre_stream_release coefficient = 0.59395\n"
          ],
          "name": "stdout"
        }
      ]
    },
    {
      "cell_type": "markdown",
      "metadata": {
        "id": "d3VhL-lKBu2W"
      },
      "source": [
        "The third model tries to predict how many more reviews a movie will get during the month it starts streaming compared to the month before. This model uses the same variables as the previous model, but, as it is attempting to predict pver a much smaller window of time, had much worse performance over the test dataset."
      ]
    },
    {
      "cell_type": "code",
      "metadata": {
        "colab": {
          "base_uri": "https://localhost:8080/"
        },
        "id": "c2HsQrdqzZCy",
        "outputId": "69619e8b-49e4-4e55-facb-8ec06fa8f457"
      },
      "source": [
        "# Regressing streaming launch success\n",
        "\n",
        "input_cols3 = [\n",
        "              'months_since_streaming',\n",
        "              'total_fresh_reviews',\n",
        "              'total_rotten_reviews',\n",
        "              'fresh_reviews_pre_stream_release',\n",
        "              'rotten_reviews_pre_stream_release'\n",
        "              ]\n",
        "y_variable3 = 'change_in_reviews_for_stream_release'\n",
        "lrEstimator3 = linear_regression(input_cols3, y_variable3, grouped_movie_data)"
      ],
      "execution_count": null,
      "outputs": [
        {
          "output_type": "stream",
          "text": [
            "Train r-squared: 0.3249271156837761\n",
            "Test r-squared: 0.2809785151012423\n",
            "Train MSE: 430.25679651598284\n",
            "Test MSE: 373.51298430946053\n"
          ],
          "name": "stdout"
        }
      ]
    },
    {
      "cell_type": "code",
      "metadata": {
        "colab": {
          "base_uri": "https://localhost:8080/"
        },
        "id": "kK_JuW77gxsv",
        "outputId": "6444f0ae-3a02-4fb0-a536-9c40786e4ce5"
      },
      "source": [
        "for i in range(len(input_cols3)):\n",
        "  col = input_cols3[i]\n",
        "  coeff = round(lrEstimator3.coefficients[i], 5)\n",
        "  print(f\"{col} coefficient = {coeff}\")"
      ],
      "execution_count": null,
      "outputs": [
        {
          "output_type": "stream",
          "text": [
            "months_since_streaming coefficient = 0.02571\n",
            "total_fresh_reviews coefficient = 0.03657\n",
            "total_rotten_reviews coefficient = 0.02601\n",
            "fresh_reviews_pre_stream_release coefficient = -0.58033\n",
            "rotten_reviews_pre_stream_release coefficient = -0.23893\n"
          ],
          "name": "stdout"
        }
      ]
    },
    {
      "cell_type": "markdown",
      "metadata": {
        "id": "3aEOcumQSOh1"
      },
      "source": [
        "# Random Forest Regression"
      ]
    },
    {
      "cell_type": "markdown",
      "metadata": {
        "id": "o2astSERCL9L"
      },
      "source": [
        "Next, we use random forest models to see if we can improve our performance over the linear regression models. Each of the next three models corresponds to one of the linear regression models, sharing the same input and output variables."
      ]
    },
    {
      "cell_type": "code",
      "metadata": {
        "id": "TvsgUT2pwZ6S"
      },
      "source": [
        "def rf_model(input_cols, y_variable, data_frame):\n",
        "\n",
        "  assembler = VectorAssembler(inputCols=input_cols, outputCol='features')\n",
        "\n",
        "  output = assembler.transform(data_frame)\n",
        "  finalData = output.select('features', y_variable)\n",
        "  trainData, testData = finalData.randomSplit([0.7, 0.3], seed=100)\n",
        "\n",
        "  rfModel = RandomForestRegressor(featuresCol=\"features\", labelCol=y_variable)\n",
        "  rfEstimator = rfModel.fit(trainData)\n",
        "\n",
        "  rfTrainPredictions = rfEstimator.transform(trainData)\n",
        "  rfTestPredictions = rfEstimator.transform(testData)\n",
        "  r2_evaluator = RegressionEvaluator(labelCol=y_variable, metricName=\"r2\")\n",
        "  mse_evaluator = RegressionEvaluator(labelCol=y_variable, metricName=\"mse\")\n",
        "\n",
        "  trainResults_r2 = r2_evaluator.evaluate(rfTrainPredictions)\n",
        "  testResults_r2 = r2_evaluator.evaluate(rfTestPredictions)\n",
        "  trainResults_mse = mse_evaluator.evaluate(rfTrainPredictions)\n",
        "  testResults_mse = mse_evaluator.evaluate(rfTestPredictions)\n",
        "\n",
        "  print(f\"Train r-squared: {trainResults_r2}\")\n",
        "  print(f\"Test r-squared: {testResults_r2}\")\n",
        "  print(f\"Train MSE: {trainResults_mse}\")\n",
        "  print(f\"Test MSE: {testResults_mse}\")\n",
        "\n",
        "  return rfTestPredictions"
      ],
      "execution_count": null,
      "outputs": []
    },
    {
      "cell_type": "code",
      "metadata": {
        "colab": {
          "base_uri": "https://localhost:8080/"
        },
        "id": "dUqgA17d_3GP",
        "outputId": "e4968924-229d-4530-e39a-9950f7ec9ff8"
      },
      "source": [
        "rfTestPredictions1 = rf_model(input_cols1, y_variable1, grouped_movie_data)"
      ],
      "execution_count": null,
      "outputs": [
        {
          "output_type": "stream",
          "text": [
            "Train r-squared: 0.8428343620408955\n",
            "Test r-squared: 0.8412586716687693\n",
            "Train MSE: 2673.7734542680732\n",
            "Test MSE: 2456.9909235661466\n"
          ],
          "name": "stdout"
        }
      ]
    },
    {
      "cell_type": "code",
      "metadata": {
        "colab": {
          "base_uri": "https://localhost:8080/",
          "height": 367
        },
        "id": "v2ygYolHa8gk",
        "outputId": "6ad90ac9-7f9d-4a67-a7b1-c5c4704a265e"
      },
      "source": [
        "# Regressing overall number of reviews on total reviews by end of first month\n",
        "\n",
        "# rfTestPredictions1 = rf_model(input_cols1, y_variable1, grouped_movie_data)\n",
        "rfTestPredictions1 = rf_model(input_cols1, 'log_reviews', grouped_movie_data.withColumn('log_reviews', F.log('overall_reviews')))\n",
        "\n",
        "rfTestPredictions1 = rfTestPredictions1.collect()\n",
        "\n",
        "# true_values = [row['overall_reviews'] for row in rfTestPredictions1]\n",
        "true_values = [row['log_reviews'] for row in rfTestPredictions1]\n",
        "predicted_values = [row['prediction'] for row in rfTestPredictions1]\n",
        "\n",
        "plt.scatter(true_values, predicted_values)\n",
        "plt.ylabel('Log Predicted Number of Total Reviews')\n",
        "plt.xlabel('Log Actual Number of Total Reviews')\n",
        "plt.title('Results of Random Forest Model on Total Number of Reviews')\n",
        "plt.show()"
      ],
      "execution_count": null,
      "outputs": [
        {
          "output_type": "stream",
          "text": [
            "Train r-squared: 0.8547348884112989\n",
            "Test r-squared: 0.8629253109176391\n",
            "Train MSE: 0.21987093273028033\n",
            "Test MSE: 0.21600911218403215\n"
          ],
          "name": "stdout"
        },
        {
          "output_type": "display_data",
          "data": {
            "image/png": "[encoded data removed]",
            "text/plain": [
              "<Figure size 432x288 with 1 Axes>"
            ]
          },
          "metadata": {
            "tags": [],
            "needs_background": "light"
          }
        }
      ]
    },
    {
      "cell_type": "code",
      "metadata": {
        "colab": {
          "base_uri": "https://localhost:8080/"
        },
        "id": "L1NyVsOoawyb",
        "outputId": "319b1844-4e99-46d1-a569-402e892bf9a7"
      },
      "source": [
        "# Regressing post-streaming success\n",
        "\n",
        "rfTestPredictions2 = rf_model(input_cols2, y_variable2, grouped_movie_data)"
      ],
      "execution_count": null,
      "outputs": [
        {
          "output_type": "stream",
          "text": [
            "Train r-squared: 0.7473659656947811\n",
            "Test r-squared: 0.6827910080789361\n",
            "Train MSE: 485.8943291389046\n",
            "Test MSE: 442.99267814652796\n"
          ],
          "name": "stdout"
        }
      ]
    },
    {
      "cell_type": "code",
      "metadata": {
        "colab": {
          "base_uri": "https://localhost:8080/"
        },
        "id": "ojHVR-D2WAeJ",
        "outputId": "30eb6edd-e65d-4618-fe81-6806df9a9194"
      },
      "source": [
        "# Regressing streaming launch success\n",
        "\n",
        "rfTestPredictions3 = rf_model(input_cols3, y_variable3, grouped_movie_data)"
      ],
      "execution_count": null,
      "outputs": [
        {
          "output_type": "stream",
          "text": [
            "Train r-squared: 0.5820952083719351\n",
            "Test r-squared: 0.3739727705782583\n",
            "Train MSE: 266.3510578960596\n",
            "Test MSE: 325.2048841812043\n"
          ],
          "name": "stdout"
        }
      ]
    },
    {
      "cell_type": "markdown",
      "metadata": {
        "id": "4qviXonpihw_"
      },
      "source": [
        "# Sentiment analysis to learn more"
      ]
    },
    {
      "cell_type": "markdown",
      "metadata": {
        "id": "nwY5N57zDSSV"
      },
      "source": [
        "We then use sentiment analysis to try to gain a bit more data about the reviews. This model would only apply to online reviews for acquired properties, as Netflix does not allow for text reviews, so they cannot run sentiment analysis on their user's responses. \n",
        "\n",
        "Earlier, we found that the raw numbers of positive and negative reviews were good predictors of overall performance. Using the same logic, we too each movie's combined positive and negative sentiments from reviews posted up to a month after the original release, then use these values as independent variables in our regression."
      ]
    },
    {
      "cell_type": "code",
      "metadata": {
        "id": "stm6e-cJszQ8"
      },
      "source": [
        "reviews_for_sent = collected_reviews.where(F.col('months_since_release') <= 0)\\\n",
        "  .select('review_content', 'rotten_tomatoes_link', F.col('is_fresh').cast('int'), 'months_since_release')\\\n",
        "  .fillna('', subset='review_content')"
      ],
      "execution_count": null,
      "outputs": []
    },
    {
      "cell_type": "code",
      "metadata": {
        "id": "IbNr5yvqs29T"
      },
      "source": [
        "sentiment = F.udf(lambda x: TextBlob(x).sentiment[0])\n",
        "reviews_for_sent = reviews_for_sent.withColumn('sentiment_score', sentiment(F.col('review_content')).cast('double'))\n",
        "reviews_for_sent = spark.sparkContext.parallelize(reviews_for_sent.collect()).toDF()"
      ],
      "execution_count": null,
      "outputs": []
    },
    {
      "cell_type": "code",
      "metadata": {
        "id": "eanwZugo1mfH"
      },
      "source": [
        "positive_sentiment_udf = F.udf(lambda x: x if x > 0 else 0)\n",
        "negative_sentiment_udf = F.udf(lambda x: x if x < 0 else 0)\n",
        "\n",
        "reviews_for_sent = reviews_for_sent.withColumn('positive_sentiment', positive_sentiment_udf(F.col('sentiment_score')))\\\n",
        "  .withColumn('negative_sentiment', negative_sentiment_udf(F.col('sentiment_score')))"
      ],
      "execution_count": null,
      "outputs": []
    },
    {
      "cell_type": "code",
      "metadata": {
        "id": "pUNos26gvBL9"
      },
      "source": [
        "  # .where(F.col('months_since_release') == 0)\\\n",
        "grouped_sentiment = reviews_for_sent\\\n",
        "  .groupby('rotten_tomatoes_link')\\\n",
        "  .agg(F.mean(F.col('sentiment_score')).alias('average_sentiment'),\n",
        "       F.sum(F.col('sentiment_score')).alias('net_sentiment'),\n",
        "       F.sum(F.col('positive_sentiment')).alias('total_positive_sentiment'),\n",
        "       F.sum(F.col('negative_sentiment')).alias('total_negative_sentiment'))\n",
        "  \n",
        "grouped_sentiment = spark.sparkContext.parallelize(\n",
        "    grouped_sentiment.join(grouped_movie_data, on='rotten_tomatoes_link').collect()).toDF()"
      ],
      "execution_count": null,
      "outputs": []
    },
    {
      "cell_type": "code",
      "metadata": {
        "colab": {
          "base_uri": "https://localhost:8080/"
        },
        "id": "ohRCe0mFyR3L",
        "outputId": "88e28332-2892-4795-b082-bae4e173ec5f"
      },
      "source": [
        "# Using sentiment scores to improve our models from before\n",
        "# Sentiment scores are for reviews up until the end of the first month after the movie's initial release\n",
        "\n",
        "input_colsS = [\n",
        "              # 'months_since_streaming',\n",
        "              # 'total_non_top_fresh_reviews',\n",
        "              # 'total_non_top_rotten_reviews',\n",
        "              'monthly_non_top_fresh_reviews',\n",
        "              'monthly_non_top_rotten_reviews',\n",
        "              # 'total_fresh_reviews_pre_stream_release',\n",
        "              # 'total_rotten_reviews_pre_stream_release',\n",
        "              'average_sentiment',\n",
        "              'total_positive_sentiment',\n",
        "              'total_negative_sentiment'\n",
        "]\n",
        "y_variableS = 'overall_reviews'\n",
        "# y_variableS = 'reviews_after_stream_release'\n",
        "# y_variableS = 'change_in_reviews_for_stream_release'\n",
        "\n",
        "linear_regression(input_colsS, y_variableS, grouped_sentiment)"
      ],
      "execution_count": null,
      "outputs": [
        {
          "output_type": "stream",
          "text": [
            "Train r-squared: 0.9424316010922148\n",
            "Test r-squared: 0.9368273761939988\n",
            "Train MSE: 966.4806706142571\n",
            "Test MSE: 1010.1674294402924\n"
          ],
          "name": "stdout"
        },
        {
          "output_type": "execute_result",
          "data": {
            "text/plain": [
              "LinearRegressionModel: uid=LinearRegression_62c35c74c724, numFeatures=5"
            ]
          },
          "metadata": {
            "tags": []
          },
          "execution_count": 120
        }
      ]
    },
    {
      "cell_type": "code",
      "metadata": {
        "colab": {
          "base_uri": "https://localhost:8080/",
          "height": 367
        },
        "id": "LFmLbS8S-H3r",
        "outputId": "c4db5eca-2a1b-4ff9-8b7a-79e5244e41bc"
      },
      "source": [
        "rfTestPredictionsS = rf_model(input_colsS, 'log_reviews', grouped_sentiment.withColumn('log_reviews', F.log('overall_reviews')))\n",
        "# rfTestPredictionsS = rf_model(input_colsS, y_variableS, grouped_sentiment)\n",
        "rfTestPredictionsS = rfTestPredictionsS.collect()\n",
        "\n",
        "true_values = [row['log_reviews'] for row in rfTestPredictionsS]\n",
        "predicted_values = [row['prediction'] for row in rfTestPredictionsS]\n",
        "\n",
        "plt.scatter(true_values, predicted_values)\n",
        "plt.ylabel('Log Predicted Number of Total Reviews')\n",
        "plt.xlabel('Log Actual Number of Total Reviews')\n",
        "plt.title('Model using Sentiment Analysis')\n",
        "plt.show()"
      ],
      "execution_count": null,
      "outputs": [
        {
          "output_type": "stream",
          "text": [
            "Train r-squared: 0.924715440550418\n",
            "Test r-squared: 0.9127420176970358\n",
            "Train MSE: 0.11436087842069731\n",
            "Test MSE: 0.13638698631225074\n"
          ],
          "name": "stdout"
        },
        {
          "output_type": "display_data",
          "data": {
            "image/png": "[encoded data removed]",
            "text/plain": [
              "<Figure size 432x288 with 1 Axes>"
            ]
          },
          "metadata": {
            "tags": [],
            "needs_background": "light"
          }
        }
      ]
    },
    {
      "cell_type": "markdown",
      "metadata": {
        "id": "o5dfgMrnqGjZ"
      },
      "source": [
        "# Examining the period after streaming release\n"
      ]
    },
    {
      "cell_type": "markdown",
      "metadata": {
        "id": "8ndifUHmEDln"
      },
      "source": [
        "Lastly, we tried focusing on the period after a movie starts streaming, as we earlier saw that the flow of reviews seems to change after a movie starts streaming, mirroring how it looked after the original release.\n",
        "\n",
        "We tried predicting the total number of reviews after the streaming release and the total number of reviews during the month of the streaming release, using positive/negative review counts and sentiment scores of reviews from the first month after a movie starts streaming."
      ]
    },
    {
      "cell_type": "code",
      "metadata": {
        "id": "jreMeXdN8Pem"
      },
      "source": [
        "stream_release = dropoffs.where(F.col(\"months_since_streaming\") == 0)\\\n",
        "  .withColumn('reviews_after_stream_release',\n",
        "          (F.col('overall_reviews') - F.col('total_reviews') + F.col('monthly_reviews')))\\\n",
        "  .withColumn(\"reviews_after_first_month_streaming\", \n",
        "          (F.col('overall_reviews') - F.col('total_reviews')))\n",
        "\n",
        "grouped_streaming_data_raw = stream_release.join(movies, on=\"rotten_tomatoes_link\")"
      ],
      "execution_count": null,
      "outputs": []
    },
    {
      "cell_type": "code",
      "metadata": {
        "id": "4DoXuWXLJHSf"
      },
      "source": [
        "stream_reviews_for_sent = collected_reviews.where(F.col('months_since_streaming') == 0)\\\n",
        "  .select('review_content', 'rotten_tomatoes_link', F.col('is_fresh').cast('int'), 'months_since_streaming')\\\n",
        "  .fillna('', subset='review_content')"
      ],
      "execution_count": null,
      "outputs": []
    },
    {
      "cell_type": "code",
      "metadata": {
        "id": "PLR09_3LI_f3"
      },
      "source": [
        "stream_reviews_for_sent = stream_reviews_for_sent.withColumn('sentiment_score', sentiment(F.col('review_content')).cast('double'))\n",
        "stream_reviews_for_sent = spark.sparkContext.parallelize(stream_reviews_for_sent.collect()).toDF()"
      ],
      "execution_count": null,
      "outputs": []
    },
    {
      "cell_type": "code",
      "metadata": {
        "id": "G5vyf5DD0U9v"
      },
      "source": [
        "stream_reviews_for_sent = stream_reviews_for_sent.withColumn('positive_sentiment', positive_sentiment_udf(F.col('sentiment_score')))\\\n",
        "  .withColumn('negative_sentiment', negative_sentiment_udf(F.col('sentiment_score')))\n",
        "\n",
        "grouped_stream_sentiment = stream_reviews_for_sent.groupby('rotten_tomatoes_link')\\\n",
        "  .agg(F.mean(F.col('sentiment_score')).alias('average_sentiment'),\n",
        "       F.sum(F.col('sentiment_score')).alias('net_sentiment'),\n",
        "       F.sum(F.col('positive_sentiment')).alias('total_positive_sentiment'),\n",
        "       F.sum(F.col('negative_sentiment')).alias('total_negative_sentiment'))\n",
        "  \n",
        "grouped_stream_sentiment = spark.sparkContext.parallelize(\n",
        "    grouped_stream_sentiment.join(grouped_streaming_data_raw, on='rotten_tomatoes_link').collect()).toDF()"
      ],
      "execution_count": null,
      "outputs": []
    },
    {
      "cell_type": "code",
      "metadata": {
        "colab": {
          "base_uri": "https://localhost:8080/"
        },
        "id": "KJ3YZg0t0bIO",
        "outputId": "6e5b2499-316e-4db7-ca5e-bcda5c70e15b"
      },
      "source": [
        "# Using sentiment scores to improve our models from before\n",
        "# Sentiment scores are for reviews up until the end of the first month after the movie's initial release\n",
        "\n",
        "input_colsSt = [\n",
        "  'monthly_fresh_reviews',\n",
        "  'monthly_rotten_reviews',\n",
        "  'total_positive_sentiment',\n",
        "  'average_sentiment'\n",
        "]\n",
        "\n",
        "y_variableSt = 'reviews_after_stream_release'\n",
        "# y_variableSt = 'reviews_after_first_month_streaming'\n",
        "linear_regression(input_colsSt, y_variableSt, grouped_stream_sentiment)"
      ],
      "execution_count": null,
      "outputs": [
        {
          "output_type": "stream",
          "text": [
            "Train r-squared: 0.5894517040802774\n",
            "Test r-squared: 0.5924458736317579\n",
            "Train MSE: 558.7070334957886\n",
            "Test MSE: 491.2459524544911\n"
          ],
          "name": "stdout"
        },
        {
          "output_type": "execute_result",
          "data": {
            "text/plain": [
              "LinearRegressionModel: uid=LinearRegression_3977f5f5073a, numFeatures=4"
            ]
          },
          "metadata": {
            "tags": []
          },
          "execution_count": 58
        }
      ]
    },
    {
      "cell_type": "code",
      "metadata": {
        "colab": {
          "base_uri": "https://localhost:8080/"
        },
        "id": "8mlBSPLM67I1",
        "outputId": "5cafcd66-2fc7-4002-b5ee-097b504d1bb9"
      },
      "source": [
        "rf_model(input_colsSt, y_variableSt, grouped_stream_sentiment)"
      ],
      "execution_count": null,
      "outputs": [
        {
          "output_type": "stream",
          "text": [
            "Train r-squared: 0.6128493486336288\n",
            "Test r-squared: 0.5371134603422185\n",
            "Train MSE: 526.8656430695862\n",
            "Test MSE: 557.9409564046301\n"
          ],
          "name": "stdout"
        },
        {
          "output_type": "execute_result",
          "data": {
            "text/plain": [
              "DataFrame[features: vector, reviews_after_stream_release: bigint, prediction: double]"
            ]
          },
          "metadata": {
            "tags": []
          },
          "execution_count": 59
        }
      ]
    },
    {
      "cell_type": "code",
      "metadata": {
        "id": "KdtvLn-O7Jkg"
      },
      "source": [
        ""
      ],
      "execution_count": null,
      "outputs": []
    }
  ]
}